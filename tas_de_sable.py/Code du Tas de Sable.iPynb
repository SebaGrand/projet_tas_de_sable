"Y'a rien c'est normal"
print("rien")
